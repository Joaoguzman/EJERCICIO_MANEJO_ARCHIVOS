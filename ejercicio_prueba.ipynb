{
 "cells": [
  {
   "cell_type": "code",
   "execution_count": 12,
   "metadata": {},
   "outputs": [],
   "source": [
    "import csv\n",
    "import json\n",
    "import pandas as pd\n",
    "from tabulate import tabulate"
   ]
  },
  {
   "cell_type": "code",
   "execution_count": 13,
   "metadata": {},
   "outputs": [
    {
     "name": "stdout",
     "output_type": "stream",
     "text": [
      "---  ------------  ----------------------  -----  ----  ---  ----------  ---  ---  ---  --  ----------\n",
      "     manufacturer  model                   displ  year  cyl  trans       drv  cty  hwy  fl  class\n",
      "1    audi          a4                      1.8    1999  4    auto(l5)    f    18   29   p   compact\n",
      "2    audi          a4                      1.8    1999  4    manual(m5)  f    21   29   p   compact\n",
      "3    audi          a4                      2      2008  4    manual(m6)  f    20   31   p   compact\n",
      "4    audi          a4                      2      2008  4    auto(av)    f    21   30   p   compact\n",
      "5    audi          a4                      2.8    1999  6    auto(l5)    f    16   26   p   compact\n",
      "6    audi          a4                      2.8    1999  6    manual(m5)  f    18   26   p   compact\n",
      "7    audi          a4                      3.1    2008  6    auto(av)    f    18   27   p   compact\n",
      "8    audi          a4 quattro              1.8    1999  4    manual(m5)  4    18   26   p   compact\n",
      "9    audi          a4 quattro              1.8    1999  4    auto(l5)    4    16   25   p   compact\n",
      "10   audi          a4 quattro              2      2008  4    manual(m6)  4    20   28   p   compact\n",
      "11   audi          a4 quattro              2      2008  4    auto(s6)    4    19   27   p   compact\n",
      "12   audi          a4 quattro              2.8    1999  6    auto(l5)    4    15   25   p   compact\n",
      "13   audi          a4 quattro              2.8    1999  6    manual(m5)  4    17   25   p   compact\n",
      "14   audi          a4 quattro              3.1    2008  6    auto(s6)    4    17   25   p   compact\n",
      "15   audi          a4 quattro              3.1    2008  6    manual(m6)  4    15   25   p   compact\n",
      "16   audi          a6 quattro              2.8    1999  6    auto(l5)    4    15   24   p   midsize\n",
      "17   audi          a6 quattro              3.1    2008  6    auto(s6)    4    17   25   p   midsize\n",
      "18   audi          a6 quattro              4.2    2008  8    auto(s6)    4    16   23   p   midsize\n",
      "19   chevrolet     c1500 suburban 2wd      5.3    2008  8    auto(l4)    r    14   20   r   suv\n",
      "20   chevrolet     c1500 suburban 2wd      5.3    2008  8    auto(l4)    r    11   15   e   suv\n",
      "21   chevrolet     c1500 suburban 2wd      5.3    2008  8    auto(l4)    r    14   20   r   suv\n",
      "22   chevrolet     c1500 suburban 2wd      5.7    1999  8    auto(l4)    r    13   17   r   suv\n",
      "23   chevrolet     c1500 suburban 2wd      6      2008  8    auto(l4)    r    12   17   r   suv\n",
      "24   chevrolet     corvette                5.7    1999  8    manual(m6)  r    16   26   p   2seater\n",
      "25   chevrolet     corvette                5.7    1999  8    auto(l4)    r    15   23   p   2seater\n",
      "26   chevrolet     corvette                6.2    2008  8    manual(m6)  r    16   26   p   2seater\n",
      "27   chevrolet     corvette                6.2    2008  8    auto(s6)    r    15   25   p   2seater\n",
      "28   chevrolet     corvette                7      2008  8    manual(m6)  r    15   24   p   2seater\n",
      "29   chevrolet     k1500 tahoe 4wd         5.3    2008  8    auto(l4)    4    14   19   r   suv\n",
      "30   chevrolet     k1500 tahoe 4wd         5.3    2008  8    auto(l4)    4    11   14   e   suv\n",
      "31   chevrolet     k1500 tahoe 4wd         5.7    1999  8    auto(l4)    4    11   15   r   suv\n",
      "32   chevrolet     k1500 tahoe 4wd         6.5    1999  8    auto(l4)    4    14   17   d   suv\n",
      "33   chevrolet     malibu                  2.4    1999  4    auto(l4)    f    19   27   r   midsize\n",
      "34   chevrolet     malibu                  2.4    2008  4    auto(l4)    f    22   30   r   midsize\n",
      "35   chevrolet     malibu                  3.1    1999  6    auto(l4)    f    18   26   r   midsize\n",
      "36   chevrolet     malibu                  3.5    2008  6    auto(l4)    f    18   29   r   midsize\n",
      "37   chevrolet     malibu                  3.6    2008  6    auto(s6)    f    17   26   r   midsize\n",
      "38   dodge         caravan 2wd             2.4    1999  4    auto(l3)    f    18   24   r   minivan\n",
      "39   dodge         caravan 2wd             3      1999  6    auto(l4)    f    17   24   r   minivan\n",
      "40   dodge         caravan 2wd             3.3    1999  6    auto(l4)    f    16   22   r   minivan\n",
      "41   dodge         caravan 2wd             3.3    1999  6    auto(l4)    f    16   22   r   minivan\n",
      "42   dodge         caravan 2wd             3.3    2008  6    auto(l4)    f    17   24   r   minivan\n",
      "43   dodge         caravan 2wd             3.3    2008  6    auto(l4)    f    17   24   r   minivan\n",
      "44   dodge         caravan 2wd             3.3    2008  6    auto(l4)    f    11   17   e   minivan\n",
      "45   dodge         caravan 2wd             3.8    1999  6    auto(l4)    f    15   22   r   minivan\n",
      "46   dodge         caravan 2wd             3.8    1999  6    auto(l4)    f    15   21   r   minivan\n",
      "47   dodge         caravan 2wd             3.8    2008  6    auto(l6)    f    16   23   r   minivan\n",
      "48   dodge         caravan 2wd             4      2008  6    auto(l6)    f    16   23   r   minivan\n",
      "49   dodge         dakota pickup 4wd       3.7    2008  6    manual(m6)  4    15   19   r   pickup\n",
      "50   dodge         dakota pickup 4wd       3.7    2008  6    auto(l4)    4    14   18   r   pickup\n",
      "51   dodge         dakota pickup 4wd       3.9    1999  6    auto(l4)    4    13   17   r   pickup\n",
      "52   dodge         dakota pickup 4wd       3.9    1999  6    manual(m5)  4    14   17   r   pickup\n",
      "53   dodge         dakota pickup 4wd       4.7    2008  8    auto(l5)    4    14   19   r   pickup\n",
      "54   dodge         dakota pickup 4wd       4.7    2008  8    auto(l5)    4    14   19   r   pickup\n",
      "55   dodge         dakota pickup 4wd       4.7    2008  8    auto(l5)    4    9    12   e   pickup\n",
      "56   dodge         dakota pickup 4wd       5.2    1999  8    manual(m5)  4    11   17   r   pickup\n",
      "57   dodge         dakota pickup 4wd       5.2    1999  8    auto(l4)    4    11   15   r   pickup\n",
      "58   dodge         durango 4wd             3.9    1999  6    auto(l4)    4    13   17   r   suv\n",
      "59   dodge         durango 4wd             4.7    2008  8    auto(l5)    4    13   17   r   suv\n",
      "60   dodge         durango 4wd             4.7    2008  8    auto(l5)    4    9    12   e   suv\n",
      "61   dodge         durango 4wd             4.7    2008  8    auto(l5)    4    13   17   r   suv\n",
      "62   dodge         durango 4wd             5.2    1999  8    auto(l4)    4    11   16   r   suv\n",
      "63   dodge         durango 4wd             5.7    2008  8    auto(l5)    4    13   18   r   suv\n",
      "64   dodge         durango 4wd             5.9    1999  8    auto(l4)    4    11   15   r   suv\n",
      "65   dodge         ram 1500 pickup 4wd     4.7    2008  8    manual(m6)  4    12   16   r   pickup\n",
      "66   dodge         ram 1500 pickup 4wd     4.7    2008  8    auto(l5)    4    9    12   e   pickup\n",
      "67   dodge         ram 1500 pickup 4wd     4.7    2008  8    auto(l5)    4    13   17   r   pickup\n",
      "68   dodge         ram 1500 pickup 4wd     4.7    2008  8    auto(l5)    4    13   17   r   pickup\n",
      "69   dodge         ram 1500 pickup 4wd     4.7    2008  8    manual(m6)  4    12   16   r   pickup\n",
      "70   dodge         ram 1500 pickup 4wd     4.7    2008  8    manual(m6)  4    9    12   e   pickup\n",
      "71   dodge         ram 1500 pickup 4wd     5.2    1999  8    auto(l4)    4    11   15   r   pickup\n",
      "72   dodge         ram 1500 pickup 4wd     5.2    1999  8    manual(m5)  4    11   16   r   pickup\n",
      "73   dodge         ram 1500 pickup 4wd     5.7    2008  8    auto(l5)    4    13   17   r   pickup\n",
      "74   dodge         ram 1500 pickup 4wd     5.9    1999  8    auto(l4)    4    11   15   r   pickup\n",
      "75   ford          expedition 2wd          4.6    1999  8    auto(l4)    r    11   17   r   suv\n",
      "76   ford          expedition 2wd          5.4    1999  8    auto(l4)    r    11   17   r   suv\n",
      "77   ford          expedition 2wd          5.4    2008  8    auto(l6)    r    12   18   r   suv\n",
      "78   ford          explorer 4wd            4      1999  6    auto(l5)    4    14   17   r   suv\n",
      "79   ford          explorer 4wd            4      1999  6    manual(m5)  4    15   19   r   suv\n",
      "80   ford          explorer 4wd            4      1999  6    auto(l5)    4    14   17   r   suv\n",
      "81   ford          explorer 4wd            4      2008  6    auto(l5)    4    13   19   r   suv\n",
      "82   ford          explorer 4wd            4.6    2008  8    auto(l6)    4    13   19   r   suv\n",
      "83   ford          explorer 4wd            5      1999  8    auto(l4)    4    13   17   r   suv\n",
      "84   ford          f150 pickup 4wd         4.2    1999  6    auto(l4)    4    14   17   r   pickup\n",
      "85   ford          f150 pickup 4wd         4.2    1999  6    manual(m5)  4    14   17   r   pickup\n",
      "86   ford          f150 pickup 4wd         4.6    1999  8    manual(m5)  4    13   16   r   pickup\n",
      "87   ford          f150 pickup 4wd         4.6    1999  8    auto(l4)    4    13   16   r   pickup\n",
      "88   ford          f150 pickup 4wd         4.6    2008  8    auto(l4)    4    13   17   r   pickup\n",
      "89   ford          f150 pickup 4wd         5.4    1999  8    auto(l4)    4    11   15   r   pickup\n",
      "90   ford          f150 pickup 4wd         5.4    2008  8    auto(l4)    4    13   17   r   pickup\n",
      "91   ford          mustang                 3.8    1999  6    manual(m5)  r    18   26   r   subcompact\n",
      "92   ford          mustang                 3.8    1999  6    auto(l4)    r    18   25   r   subcompact\n",
      "93   ford          mustang                 4      2008  6    manual(m5)  r    17   26   r   subcompact\n",
      "94   ford          mustang                 4      2008  6    auto(l5)    r    16   24   r   subcompact\n",
      "95   ford          mustang                 4.6    1999  8    auto(l4)    r    15   21   r   subcompact\n",
      "96   ford          mustang                 4.6    1999  8    manual(m5)  r    15   22   r   subcompact\n",
      "97   ford          mustang                 4.6    2008  8    manual(m5)  r    15   23   r   subcompact\n",
      "98   ford          mustang                 4.6    2008  8    auto(l5)    r    15   22   r   subcompact\n",
      "99   ford          mustang                 5.4    2008  8    manual(m6)  r    14   20   p   subcompact\n",
      "100  honda         civic                   1.6    1999  4    manual(m5)  f    28   33   r   subcompact\n",
      "101  honda         civic                   1.6    1999  4    auto(l4)    f    24   32   r   subcompact\n",
      "102  honda         civic                   1.6    1999  4    manual(m5)  f    25   32   r   subcompact\n",
      "103  honda         civic                   1.6    1999  4    manual(m5)  f    23   29   p   subcompact\n",
      "104  honda         civic                   1.6    1999  4    auto(l4)    f    24   32   r   subcompact\n",
      "105  honda         civic                   1.8    2008  4    manual(m5)  f    26   34   r   subcompact\n",
      "106  honda         civic                   1.8    2008  4    auto(l5)    f    25   36   r   subcompact\n",
      "107  honda         civic                   1.8    2008  4    auto(l5)    f    24   36   c   subcompact\n",
      "108  honda         civic                   2      2008  4    manual(m6)  f    21   29   p   subcompact\n",
      "109  hyundai       sonata                  2.4    1999  4    auto(l4)    f    18   26   r   midsize\n",
      "110  hyundai       sonata                  2.4    1999  4    manual(m5)  f    18   27   r   midsize\n",
      "111  hyundai       sonata                  2.4    2008  4    auto(l4)    f    21   30   r   midsize\n",
      "112  hyundai       sonata                  2.4    2008  4    manual(m5)  f    21   31   r   midsize\n",
      "113  hyundai       sonata                  2.5    1999  6    auto(l4)    f    18   26   r   midsize\n",
      "114  hyundai       sonata                  2.5    1999  6    manual(m5)  f    18   26   r   midsize\n",
      "115  hyundai       sonata                  3.3    2008  6    auto(l5)    f    19   28   r   midsize\n",
      "116  hyundai       tiburon                 2      1999  4    auto(l4)    f    19   26   r   subcompact\n",
      "117  hyundai       tiburon                 2      1999  4    manual(m5)  f    19   29   r   subcompact\n",
      "118  hyundai       tiburon                 2      2008  4    manual(m5)  f    20   28   r   subcompact\n",
      "119  hyundai       tiburon                 2      2008  4    auto(l4)    f    20   27   r   subcompact\n",
      "120  hyundai       tiburon                 2.7    2008  6    auto(l4)    f    17   24   r   subcompact\n",
      "121  hyundai       tiburon                 2.7    2008  6    manual(m6)  f    16   24   r   subcompact\n",
      "122  hyundai       tiburon                 2.7    2008  6    manual(m5)  f    17   24   r   subcompact\n",
      "123  jeep          grand cherokee 4wd      3      2008  6    auto(l5)    4    17   22   d   suv\n",
      "124  jeep          grand cherokee 4wd      3.7    2008  6    auto(l5)    4    15   19   r   suv\n",
      "125  jeep          grand cherokee 4wd      4      1999  6    auto(l4)    4    15   20   r   suv\n",
      "126  jeep          grand cherokee 4wd      4.7    1999  8    auto(l4)    4    14   17   r   suv\n",
      "127  jeep          grand cherokee 4wd      4.7    2008  8    auto(l5)    4    9    12   e   suv\n",
      "128  jeep          grand cherokee 4wd      4.7    2008  8    auto(l5)    4    14   19   r   suv\n",
      "129  jeep          grand cherokee 4wd      5.7    2008  8    auto(l5)    4    13   18   r   suv\n",
      "130  jeep          grand cherokee 4wd      6.1    2008  8    auto(l5)    4    11   14   p   suv\n",
      "131  land rover    range rover             4      1999  8    auto(l4)    4    11   15   p   suv\n",
      "132  land rover    range rover             4.2    2008  8    auto(s6)    4    12   18   r   suv\n",
      "133  land rover    range rover             4.4    2008  8    auto(s6)    4    12   18   r   suv\n",
      "134  land rover    range rover             4.6    1999  8    auto(l4)    4    11   15   p   suv\n",
      "135  lincoln       navigator 2wd           5.4    1999  8    auto(l4)    r    11   17   r   suv\n",
      "136  lincoln       navigator 2wd           5.4    1999  8    auto(l4)    r    11   16   p   suv\n",
      "137  lincoln       navigator 2wd           5.4    2008  8    auto(l6)    r    12   18   r   suv\n",
      "138  mercury       mountaineer 4wd         4      1999  6    auto(l5)    4    14   17   r   suv\n",
      "139  mercury       mountaineer 4wd         4      2008  6    auto(l5)    4    13   19   r   suv\n",
      "140  mercury       mountaineer 4wd         4.6    2008  8    auto(l6)    4    13   19   r   suv\n",
      "141  mercury       mountaineer 4wd         5      1999  8    auto(l4)    4    13   17   r   suv\n",
      "142  nissan        altima                  2.4    1999  4    manual(m5)  f    21   29   r   compact\n",
      "143  nissan        altima                  2.4    1999  4    auto(l4)    f    19   27   r   compact\n",
      "144  nissan        altima                  2.5    2008  4    auto(av)    f    23   31   r   midsize\n",
      "145  nissan        altima                  2.5    2008  4    manual(m6)  f    23   32   r   midsize\n",
      "146  nissan        altima                  3.5    2008  6    manual(m6)  f    19   27   p   midsize\n",
      "147  nissan        altima                  3.5    2008  6    auto(av)    f    19   26   p   midsize\n",
      "148  nissan        maxima                  3      1999  6    auto(l4)    f    18   26   r   midsize\n",
      "149  nissan        maxima                  3      1999  6    manual(m5)  f    19   25   r   midsize\n",
      "150  nissan        maxima                  3.5    2008  6    auto(av)    f    19   25   p   midsize\n",
      "151  nissan        pathfinder 4wd          3.3    1999  6    auto(l4)    4    14   17   r   suv\n",
      "152  nissan        pathfinder 4wd          3.3    1999  6    manual(m5)  4    15   17   r   suv\n",
      "153  nissan        pathfinder 4wd          4      2008  6    auto(l5)    4    14   20   p   suv\n",
      "154  nissan        pathfinder 4wd          5.6    2008  8    auto(s5)    4    12   18   p   suv\n",
      "155  pontiac       grand prix              3.1    1999  6    auto(l4)    f    18   26   r   midsize\n",
      "156  pontiac       grand prix              3.8    1999  6    auto(l4)    f    16   26   p   midsize\n",
      "157  pontiac       grand prix              3.8    1999  6    auto(l4)    f    17   27   r   midsize\n",
      "158  pontiac       grand prix              3.8    2008  6    auto(l4)    f    18   28   r   midsize\n",
      "159  pontiac       grand prix              5.3    2008  8    auto(s4)    f    16   25   p   midsize\n",
      "160  subaru        forester awd            2.5    1999  4    manual(m5)  4    18   25   r   suv\n",
      "161  subaru        forester awd            2.5    1999  4    auto(l4)    4    18   24   r   suv\n",
      "162  subaru        forester awd            2.5    2008  4    manual(m5)  4    20   27   r   suv\n",
      "163  subaru        forester awd            2.5    2008  4    manual(m5)  4    19   25   p   suv\n",
      "164  subaru        forester awd            2.5    2008  4    auto(l4)    4    20   26   r   suv\n",
      "165  subaru        forester awd            2.5    2008  4    auto(l4)    4    18   23   p   suv\n",
      "166  subaru        impreza awd             2.2    1999  4    auto(l4)    4    21   26   r   subcompact\n",
      "167  subaru        impreza awd             2.2    1999  4    manual(m5)  4    19   26   r   subcompact\n",
      "168  subaru        impreza awd             2.5    1999  4    manual(m5)  4    19   26   r   subcompact\n",
      "169  subaru        impreza awd             2.5    1999  4    auto(l4)    4    19   26   r   subcompact\n",
      "170  subaru        impreza awd             2.5    2008  4    auto(s4)    4    20   25   p   compact\n",
      "171  subaru        impreza awd             2.5    2008  4    auto(s4)    4    20   27   r   compact\n",
      "172  subaru        impreza awd             2.5    2008  4    manual(m5)  4    19   25   p   compact\n",
      "173  subaru        impreza awd             2.5    2008  4    manual(m5)  4    20   27   r   compact\n",
      "174  toyota        4runner 4wd             2.7    1999  4    manual(m5)  4    15   20   r   suv\n",
      "175  toyota        4runner 4wd             2.7    1999  4    auto(l4)    4    16   20   r   suv\n",
      "176  toyota        4runner 4wd             3.4    1999  6    auto(l4)    4    15   19   r   suv\n",
      "177  toyota        4runner 4wd             3.4    1999  6    manual(m5)  4    15   17   r   suv\n",
      "178  toyota        4runner 4wd             4      2008  6    auto(l5)    4    16   20   r   suv\n",
      "179  toyota        4runner 4wd             4.7    2008  8    auto(l5)    4    14   17   r   suv\n",
      "180  toyota        camry                   2.2    1999  4    manual(m5)  f    21   29   r   midsize\n",
      "181  toyota        camry                   2.2    1999  4    auto(l4)    f    21   27   r   midsize\n",
      "182  toyota        camry                   2.4    2008  4    manual(m5)  f    21   31   r   midsize\n",
      "183  toyota        camry                   2.4    2008  4    auto(l5)    f    21   31   r   midsize\n",
      "184  toyota        camry                   3      1999  6    auto(l4)    f    18   26   r   midsize\n",
      "185  toyota        camry                   3      1999  6    manual(m5)  f    18   26   r   midsize\n",
      "186  toyota        camry                   3.5    2008  6    auto(s6)    f    19   28   r   midsize\n",
      "187  toyota        camry solara            2.2    1999  4    auto(l4)    f    21   27   r   compact\n",
      "188  toyota        camry solara            2.2    1999  4    manual(m5)  f    21   29   r   compact\n",
      "189  toyota        camry solara            2.4    2008  4    manual(m5)  f    21   31   r   compact\n",
      "190  toyota        camry solara            2.4    2008  4    auto(s5)    f    22   31   r   compact\n",
      "191  toyota        camry solara            3      1999  6    auto(l4)    f    18   26   r   compact\n",
      "192  toyota        camry solara            3      1999  6    manual(m5)  f    18   26   r   compact\n",
      "193  toyota        camry solara            3.3    2008  6    auto(s5)    f    18   27   r   compact\n",
      "194  toyota        corolla                 1.8    1999  4    auto(l3)    f    24   30   r   compact\n",
      "195  toyota        corolla                 1.8    1999  4    auto(l4)    f    24   33   r   compact\n",
      "196  toyota        corolla                 1.8    1999  4    manual(m5)  f    26   35   r   compact\n",
      "197  toyota        corolla                 1.8    2008  4    manual(m5)  f    28   37   r   compact\n",
      "198  toyota        corolla                 1.8    2008  4    auto(l4)    f    26   35   r   compact\n",
      "199  toyota        land cruiser wagon 4wd  4.7    1999  8    auto(l4)    4    11   15   r   suv\n",
      "200  toyota        land cruiser wagon 4wd  5.7    2008  8    auto(s6)    4    13   18   r   suv\n",
      "201  toyota        toyota tacoma 4wd       2.7    1999  4    manual(m5)  4    15   20   r   pickup\n",
      "202  toyota        toyota tacoma 4wd       2.7    1999  4    auto(l4)    4    16   20   r   pickup\n",
      "203  toyota        toyota tacoma 4wd       2.7    2008  4    manual(m5)  4    17   22   r   pickup\n",
      "204  toyota        toyota tacoma 4wd       3.4    1999  6    manual(m5)  4    15   17   r   pickup\n",
      "205  toyota        toyota tacoma 4wd       3.4    1999  6    auto(l4)    4    15   19   r   pickup\n",
      "206  toyota        toyota tacoma 4wd       4      2008  6    manual(m6)  4    15   18   r   pickup\n",
      "207  toyota        toyota tacoma 4wd       4      2008  6    auto(l5)    4    16   20   r   pickup\n",
      "208  volkswagen    gti                     2      1999  4    manual(m5)  f    21   29   r   compact\n",
      "209  volkswagen    gti                     2      1999  4    auto(l4)    f    19   26   r   compact\n",
      "210  volkswagen    gti                     2      2008  4    manual(m6)  f    21   29   p   compact\n",
      "211  volkswagen    gti                     2      2008  4    auto(s6)    f    22   29   p   compact\n",
      "212  volkswagen    gti                     2.8    1999  6    manual(m5)  f    17   24   r   compact\n",
      "213  volkswagen    jetta                   1.9    1999  4    manual(m5)  f    33   44   d   compact\n",
      "214  volkswagen    jetta                   2      1999  4    manual(m5)  f    21   29   r   compact\n",
      "215  volkswagen    jetta                   2      1999  4    auto(l4)    f    19   26   r   compact\n",
      "216  volkswagen    jetta                   2      2008  4    auto(s6)    f    22   29   p   compact\n",
      "217  volkswagen    jetta                   2      2008  4    manual(m6)  f    21   29   p   compact\n",
      "218  volkswagen    jetta                   2.5    2008  5    auto(s6)    f    21   29   r   compact\n",
      "219  volkswagen    jetta                   2.5    2008  5    manual(m5)  f    21   29   r   compact\n",
      "220  volkswagen    jetta                   2.8    1999  6    auto(l4)    f    16   23   r   compact\n",
      "221  volkswagen    jetta                   2.8    1999  6    manual(m5)  f    17   24   r   compact\n",
      "222  volkswagen    new beetle              1.9    1999  4    manual(m5)  f    35   44   d   subcompact\n",
      "223  volkswagen    new beetle              1.9    1999  4    auto(l4)    f    29   41   d   subcompact\n",
      "224  volkswagen    new beetle              2      1999  4    manual(m5)  f    21   29   r   subcompact\n",
      "225  volkswagen    new beetle              2      1999  4    auto(l4)    f    19   26   r   subcompact\n",
      "226  volkswagen    new beetle              2.5    2008  5    manual(m5)  f    20   28   r   subcompact\n",
      "227  volkswagen    new beetle              2.5    2008  5    auto(s6)    f    20   29   r   subcompact\n",
      "228  volkswagen    passat                  1.8    1999  4    manual(m5)  f    21   29   p   midsize\n",
      "229  volkswagen    passat                  1.8    1999  4    auto(l5)    f    18   29   p   midsize\n",
      "230  volkswagen    passat                  2      2008  4    auto(s6)    f    19   28   p   midsize\n",
      "231  volkswagen    passat                  2      2008  4    manual(m6)  f    21   29   p   midsize\n",
      "232  volkswagen    passat                  2.8    1999  6    auto(l5)    f    16   26   p   midsize\n",
      "233  volkswagen    passat                  2.8    1999  6    manual(m5)  f    18   26   p   midsize\n",
      "234  volkswagen    passat                  3.6    2008  6    auto(s6)    f    17   26   p   midsize\n",
      "---  ------------  ----------------------  -----  ----  ---  ----------  ---  ---  ---  --  ----------\n"
     ]
    }
   ],
   "source": [
    "with open (\"data/dato_ejemplo/mpg.csv\", \"r\") as archivo:\n",
    "    datos = csv.reader(archivo)\n",
    "    datos = list(datos)\n",
    "\n",
    "print(  tabulate(datos))\n"
   ]
  },
  {
   "cell_type": "code",
   "execution_count": 100,
   "metadata": {},
   "outputs": [
    {
     "name": "stdout",
     "output_type": "stream",
     "text": [
      "{'lon': -70.65, 'lat': -33.46}\n",
      "lon\n",
      "lat\n",
      "['lon', 'lat']\n",
      "[{'id': 800, 'main': 'Clear', 'description': 'clear sky', 'icon': '01d'}]\n",
      "stations\n",
      "{'temp': 304.3, 'feels_like': 300.71, 'temp_min': 303.15, 'temp_max': 305.93, 'pressure': 1014, 'humidity': 22}\n",
      "temp\n",
      "feels_like\n",
      "temp_min\n",
      "temp_max\n",
      "pressure\n",
      "humidity\n",
      "['temp', 'feels_like', 'temp_min', 'temp_max', 'pressure', 'humidity']\n",
      "10000\n",
      "{'speed': 4.1, 'deg': 260}\n",
      "speed\n",
      "deg\n",
      "['speed', 'deg']\n",
      "{'all': 0}\n",
      "all\n",
      "['all']\n",
      "1606763818\n",
      "{'type': 1, 'id': 8506, 'country': 'CL', 'sunrise': 1606728364, 'sunset': 1606779436}\n",
      "type\n",
      "id\n",
      "country\n",
      "sunrise\n",
      "sunset\n",
      "['type', 'id', 'country', 'sunrise', 'sunset']\n",
      "-10800\n",
      "3871336\n",
      "Santiago\n",
      "200\n",
      "[['lon', 'lat'], [-70.65, -33.46], ['temp', 'feels_like', 'temp_min', 'temp_max', 'pressure', 'humidity'], [304.3, 300.71, 303.15, 305.93, 1014, 22], ['speed', 'deg'], [4.1, 260], ['all'], [0], ['type', 'id', 'country', 'sunrise', 'sunset'], [1, 8506, 'CL', 1606728364, 1606779436]]\n",
      "[1, 8506, 'CL', 1606728364, 1606779436]\n"
     ]
    }
   ],
   "source": [
    "with open (\"data/weather.json\", \"r\") as archivo:\n",
    "    datos = archivo.readline()\n",
    "data = json.loads(datos)\n",
    "lista = []\n",
    "recolector= []\n",
    "for elementos in data.values():\n",
    "    lista.append(elementos)\n",
    "    #print(elementos)\n",
    "    \n",
    "for elementos in lista:\n",
    "    print(elementos)\n",
    "    if type(elementos) == dict:\n",
    "        auxiliar= []\n",
    "        auxiliar2 = []\n",
    "        for i,j in elementos.items():\n",
    "            print(i)\n",
    "            auxiliar.append(i)\n",
    "            auxiliar2.append(j)\n",
    "        print(auxiliar)\n",
    "        recolector.append(auxiliar)\n",
    "        recolector.append(auxiliar2)\n",
    "\n",
    "print(recolector)\n",
    "print(auxiliar2)"
   ]
  },
  {
   "cell_type": "code",
   "execution_count": 103,
   "metadata": {},
   "outputs": [],
   "source": [
    "df3 = pd.DataFrame(recolector)"
   ]
  },
  {
   "cell_type": "code",
   "execution_count": 104,
   "metadata": {},
   "outputs": [
    {
     "name": "stdout",
     "output_type": "stream",
     "text": [
      "       0           1         2           3           4         5\n",
      "0    lon         lat      None        None        None      None\n",
      "1 -70.65      -33.46      None        None        None      None\n",
      "2   temp  feels_like  temp_min    temp_max    pressure  humidity\n",
      "3  304.3      300.71    303.15      305.93        1014        22\n",
      "4  speed         deg      None        None        None      None\n",
      "5    4.1         260      None        None        None      None\n",
      "6    all        None      None        None        None      None\n",
      "7      0        None      None        None        None      None\n",
      "8   type          id   country     sunrise      sunset      None\n",
      "9      1        8506        CL  1606728364  1606779436      None\n"
     ]
    }
   ],
   "source": [
    "print(df3)"
   ]
  },
  {
   "cell_type": "code",
   "execution_count": 39,
   "metadata": {},
   "outputs": [
    {
     "name": "stdout",
     "output_type": "stream",
     "text": [
      "[('coord', {'lon': -70.65, 'lat': -33.46}), ('weather', [{'id': 800, 'main': 'Clear', 'description': 'clear sky', 'icon': '01d'}]), ('base', 'stations'), ('main', {'temp': 304.3, 'feels_like': 300.71, 'temp_min': 303.15, 'temp_max': 305.93, 'pressure': 1014, 'humidity': 22}), ('visibility', 10000), ('wind', {'speed': 4.1, 'deg': 260}), ('clouds', {'all': 0}), ('dt', 1606763818), ('sys', {'type': 1, 'id': 8506, 'country': 'CL', 'sunrise': 1606728364, 'sunset': 1606779436}), ('timezone', -10800), ('id', 3871336), ('name', 'Santiago'), ('cod', 200)]\n"
     ]
    }
   ],
   "source": [
    "print(list(data.items()))"
   ]
  },
  {
   "cell_type": "code",
   "execution_count": 37,
   "metadata": {},
   "outputs": [
    {
     "name": "stdout",
     "output_type": "stream",
     "text": [
      "dict_keys(['coord', 'weather', 'base', 'main', 'visibility', 'wind', 'clouds', 'dt', 'sys', 'timezone', 'id', 'name', 'cod'])\n"
     ]
    }
   ],
   "source": [
    "print(data.keys())"
   ]
  },
  {
   "cell_type": "code",
   "execution_count": 40,
   "metadata": {},
   "outputs": [
    {
     "name": "stdout",
     "output_type": "stream",
     "text": [
      "('coord', {'lon': -70.65, 'lat': -33.46})\n",
      "('weather', [{'id': 800, 'main': 'Clear', 'description': 'clear sky', 'icon': '01d'}])\n",
      "('base', 'stations')\n",
      "('main', {'temp': 304.3, 'feels_like': 300.71, 'temp_min': 303.15, 'temp_max': 305.93, 'pressure': 1014, 'humidity': 22})\n",
      "('visibility', 10000)\n",
      "('wind', {'speed': 4.1, 'deg': 260})\n",
      "('clouds', {'all': 0})\n",
      "('dt', 1606763818)\n",
      "('sys', {'type': 1, 'id': 8506, 'country': 'CL', 'sunrise': 1606728364, 'sunset': 1606779436})\n",
      "('timezone', -10800)\n",
      "('id', 3871336)\n",
      "('name', 'Santiago')\n",
      "('cod', 200)\n"
     ]
    }
   ],
   "source": [
    "for i in list(data.items()):\n",
    "    print(i)"
   ]
  },
  {
   "cell_type": "code",
   "execution_count": 46,
   "metadata": {},
   "outputs": [
    {
     "name": "stdout",
     "output_type": "stream",
     "text": [
      "stations\n"
     ]
    }
   ],
   "source": [
    "x = data[\"base\"]\n",
    "print(x)"
   ]
  },
  {
   "cell_type": "code",
   "execution_count": null,
   "metadata": {},
   "outputs": [],
   "source": [
    "for k in data.items: "
   ]
  },
  {
   "cell_type": "code",
   "execution_count": 59,
   "metadata": {},
   "outputs": [
    {
     "name": "stdout",
     "output_type": "stream",
     "text": [
      "    id   main description icon\n",
      "0  800  Clear   clear sky  01d\n"
     ]
    }
   ],
   "source": [
    "data = json.load(open('data/weather.json'))\n",
    "\n",
    "df_2 = pd.DataFrame(data[\"weather\"])\n",
    "print(df_2.head())"
   ]
  },
  {
   "cell_type": "code",
   "execution_count": 56,
   "metadata": {},
   "outputs": [
    {
     "data": {
      "text/html": [
       "<div>\n",
       "<style scoped>\n",
       "    .dataframe tbody tr th:only-of-type {\n",
       "        vertical-align: middle;\n",
       "    }\n",
       "\n",
       "    .dataframe tbody tr th {\n",
       "        vertical-align: top;\n",
       "    }\n",
       "\n",
       "    .dataframe thead th {\n",
       "        text-align: right;\n",
       "    }\n",
       "</style>\n",
       "<table border=\"1\" class=\"dataframe\">\n",
       "  <thead>\n",
       "    <tr style=\"text-align: right;\">\n",
       "      <th></th>\n",
       "      <th>id</th>\n",
       "      <th>main</th>\n",
       "      <th>description</th>\n",
       "      <th>icon</th>\n",
       "    </tr>\n",
       "  </thead>\n",
       "  <tbody>\n",
       "    <tr>\n",
       "      <th>0</th>\n",
       "      <td>800</td>\n",
       "      <td>Clear</td>\n",
       "      <td>clear sky</td>\n",
       "      <td>01d</td>\n",
       "    </tr>\n",
       "  </tbody>\n",
       "</table>\n",
       "</div>"
      ],
      "text/plain": [
       "    id   main description icon\n",
       "0  800  Clear   clear sky  01d"
      ]
     },
     "execution_count": 56,
     "metadata": {},
     "output_type": "execute_result"
    }
   ],
   "source": [
    "df_2.head()"
   ]
  },
  {
   "cell_type": "code",
   "execution_count": 57,
   "metadata": {},
   "outputs": [],
   "source": [
    "df_2.to_csv(\"data/archivo.csv\")"
   ]
  },
  {
   "cell_type": "code",
   "execution_count": 62,
   "metadata": {},
   "outputs": [
    {
     "name": "stdout",
     "output_type": "stream",
     "text": [
      "            0                                                  1\n",
      "0       coord                     {'lon': -70.65, 'lat': -33.46}\n",
      "1     weather  [{'id': 800, 'main': 'Clear', 'description': '...\n",
      "2        base                                           stations\n",
      "3        main  {'temp': 304.3, 'feels_like': 300.71, 'temp_mi...\n",
      "4  visibility                                              10000\n",
      "5        wind                         {'speed': 4.1, 'deg': 260}\n",
      "6      clouds                                         {'all': 0}\n",
      "7          dt                                         1606763818\n",
      "8         sys  {'type': 1, 'id': 8506, 'country': 'CL', 'sunr...\n",
      "9    timezone                                             -10800\n"
     ]
    }
   ],
   "source": [
    "df_2 = pd.DataFrame(list(data.items()))\n",
    "print(df_2.head(10))"
   ]
  },
  {
   "cell_type": "code",
   "execution_count": 64,
   "metadata": {},
   "outputs": [
    {
     "ename": "ValueError",
     "evalue": "If using all scalar values, you must pass an index",
     "output_type": "error",
     "traceback": [
      "\u001b[0;31m---------------------------------------------------------------------------\u001b[0m",
      "\u001b[0;31mValueError\u001b[0m                                Traceback (most recent call last)",
      "\u001b[0;32m<ipython-input-64-b8066de99e70>\u001b[0m in \u001b[0;36m<module>\u001b[0;34m\u001b[0m\n\u001b[0;32m----> 1\u001b[0;31m \u001b[0mdf_2\u001b[0m \u001b[0;34m=\u001b[0m \u001b[0mpd\u001b[0m\u001b[0;34m.\u001b[0m\u001b[0mDataFrame\u001b[0m\u001b[0;34m(\u001b[0m\u001b[0mdata\u001b[0m\u001b[0;34m[\u001b[0m\u001b[0;34m\"wind\"\u001b[0m\u001b[0;34m]\u001b[0m\u001b[0;34m)\u001b[0m\u001b[0;34m\u001b[0m\u001b[0;34m\u001b[0m\u001b[0m\n\u001b[0m\u001b[1;32m      2\u001b[0m \u001b[0mprint\u001b[0m\u001b[0;34m(\u001b[0m\u001b[0mdf_2\u001b[0m\u001b[0;34m.\u001b[0m\u001b[0mhead\u001b[0m\u001b[0;34m(\u001b[0m\u001b[0;34m)\u001b[0m\u001b[0;34m)\u001b[0m\u001b[0;34m\u001b[0m\u001b[0;34m\u001b[0m\u001b[0m\n",
      "\u001b[0;32m~/opt/anaconda3/envs/Python/lib/python3.6/site-packages/pandas/core/frame.py\u001b[0m in \u001b[0;36m__init__\u001b[0;34m(self, data, index, columns, dtype, copy)\u001b[0m\n\u001b[1;32m    433\u001b[0m             )\n\u001b[1;32m    434\u001b[0m         \u001b[0;32melif\u001b[0m \u001b[0misinstance\u001b[0m\u001b[0;34m(\u001b[0m\u001b[0mdata\u001b[0m\u001b[0;34m,\u001b[0m \u001b[0mdict\u001b[0m\u001b[0;34m)\u001b[0m\u001b[0;34m:\u001b[0m\u001b[0;34m\u001b[0m\u001b[0;34m\u001b[0m\u001b[0m\n\u001b[0;32m--> 435\u001b[0;31m             \u001b[0mmgr\u001b[0m \u001b[0;34m=\u001b[0m \u001b[0minit_dict\u001b[0m\u001b[0;34m(\u001b[0m\u001b[0mdata\u001b[0m\u001b[0;34m,\u001b[0m \u001b[0mindex\u001b[0m\u001b[0;34m,\u001b[0m \u001b[0mcolumns\u001b[0m\u001b[0;34m,\u001b[0m \u001b[0mdtype\u001b[0m\u001b[0;34m=\u001b[0m\u001b[0mdtype\u001b[0m\u001b[0;34m)\u001b[0m\u001b[0;34m\u001b[0m\u001b[0;34m\u001b[0m\u001b[0m\n\u001b[0m\u001b[1;32m    436\u001b[0m         \u001b[0;32melif\u001b[0m \u001b[0misinstance\u001b[0m\u001b[0;34m(\u001b[0m\u001b[0mdata\u001b[0m\u001b[0;34m,\u001b[0m \u001b[0mma\u001b[0m\u001b[0;34m.\u001b[0m\u001b[0mMaskedArray\u001b[0m\u001b[0;34m)\u001b[0m\u001b[0;34m:\u001b[0m\u001b[0;34m\u001b[0m\u001b[0;34m\u001b[0m\u001b[0m\n\u001b[1;32m    437\u001b[0m             \u001b[0;32mimport\u001b[0m \u001b[0mnumpy\u001b[0m\u001b[0;34m.\u001b[0m\u001b[0mma\u001b[0m\u001b[0;34m.\u001b[0m\u001b[0mmrecords\u001b[0m \u001b[0;32mas\u001b[0m \u001b[0mmrecords\u001b[0m\u001b[0;34m\u001b[0m\u001b[0;34m\u001b[0m\u001b[0m\n",
      "\u001b[0;32m~/opt/anaconda3/envs/Python/lib/python3.6/site-packages/pandas/core/internals/construction.py\u001b[0m in \u001b[0;36minit_dict\u001b[0;34m(data, index, columns, dtype)\u001b[0m\n\u001b[1;32m    252\u001b[0m             \u001b[0marr\u001b[0m \u001b[0;32mif\u001b[0m \u001b[0;32mnot\u001b[0m \u001b[0mis_datetime64tz_dtype\u001b[0m\u001b[0;34m(\u001b[0m\u001b[0marr\u001b[0m\u001b[0;34m)\u001b[0m \u001b[0;32melse\u001b[0m \u001b[0marr\u001b[0m\u001b[0;34m.\u001b[0m\u001b[0mcopy\u001b[0m\u001b[0;34m(\u001b[0m\u001b[0;34m)\u001b[0m \u001b[0;32mfor\u001b[0m \u001b[0marr\u001b[0m \u001b[0;32min\u001b[0m \u001b[0marrays\u001b[0m\u001b[0;34m\u001b[0m\u001b[0;34m\u001b[0m\u001b[0m\n\u001b[1;32m    253\u001b[0m         ]\n\u001b[0;32m--> 254\u001b[0;31m     \u001b[0;32mreturn\u001b[0m \u001b[0marrays_to_mgr\u001b[0m\u001b[0;34m(\u001b[0m\u001b[0marrays\u001b[0m\u001b[0;34m,\u001b[0m \u001b[0mdata_names\u001b[0m\u001b[0;34m,\u001b[0m \u001b[0mindex\u001b[0m\u001b[0;34m,\u001b[0m \u001b[0mcolumns\u001b[0m\u001b[0;34m,\u001b[0m \u001b[0mdtype\u001b[0m\u001b[0;34m=\u001b[0m\u001b[0mdtype\u001b[0m\u001b[0;34m)\u001b[0m\u001b[0;34m\u001b[0m\u001b[0;34m\u001b[0m\u001b[0m\n\u001b[0m\u001b[1;32m    255\u001b[0m \u001b[0;34m\u001b[0m\u001b[0m\n\u001b[1;32m    256\u001b[0m \u001b[0;34m\u001b[0m\u001b[0m\n",
      "\u001b[0;32m~/opt/anaconda3/envs/Python/lib/python3.6/site-packages/pandas/core/internals/construction.py\u001b[0m in \u001b[0;36marrays_to_mgr\u001b[0;34m(arrays, arr_names, index, columns, dtype)\u001b[0m\n\u001b[1;32m     62\u001b[0m     \u001b[0;31m# figure out the index, if necessary\u001b[0m\u001b[0;34m\u001b[0m\u001b[0;34m\u001b[0m\u001b[0;34m\u001b[0m\u001b[0m\n\u001b[1;32m     63\u001b[0m     \u001b[0;32mif\u001b[0m \u001b[0mindex\u001b[0m \u001b[0;32mis\u001b[0m \u001b[0;32mNone\u001b[0m\u001b[0;34m:\u001b[0m\u001b[0;34m\u001b[0m\u001b[0;34m\u001b[0m\u001b[0m\n\u001b[0;32m---> 64\u001b[0;31m         \u001b[0mindex\u001b[0m \u001b[0;34m=\u001b[0m \u001b[0mextract_index\u001b[0m\u001b[0;34m(\u001b[0m\u001b[0marrays\u001b[0m\u001b[0;34m)\u001b[0m\u001b[0;34m\u001b[0m\u001b[0;34m\u001b[0m\u001b[0m\n\u001b[0m\u001b[1;32m     65\u001b[0m     \u001b[0;32melse\u001b[0m\u001b[0;34m:\u001b[0m\u001b[0;34m\u001b[0m\u001b[0;34m\u001b[0m\u001b[0m\n\u001b[1;32m     66\u001b[0m         \u001b[0mindex\u001b[0m \u001b[0;34m=\u001b[0m \u001b[0mensure_index\u001b[0m\u001b[0;34m(\u001b[0m\u001b[0mindex\u001b[0m\u001b[0;34m)\u001b[0m\u001b[0;34m\u001b[0m\u001b[0;34m\u001b[0m\u001b[0m\n",
      "\u001b[0;32m~/opt/anaconda3/envs/Python/lib/python3.6/site-packages/pandas/core/internals/construction.py\u001b[0m in \u001b[0;36mextract_index\u001b[0;34m(data)\u001b[0m\n\u001b[1;32m    353\u001b[0m \u001b[0;34m\u001b[0m\u001b[0m\n\u001b[1;32m    354\u001b[0m         \u001b[0;32mif\u001b[0m \u001b[0;32mnot\u001b[0m \u001b[0mindexes\u001b[0m \u001b[0;32mand\u001b[0m \u001b[0;32mnot\u001b[0m \u001b[0mraw_lengths\u001b[0m\u001b[0;34m:\u001b[0m\u001b[0;34m\u001b[0m\u001b[0;34m\u001b[0m\u001b[0m\n\u001b[0;32m--> 355\u001b[0;31m             \u001b[0;32mraise\u001b[0m \u001b[0mValueError\u001b[0m\u001b[0;34m(\u001b[0m\u001b[0;34m\"If using all scalar values, you must pass an index\"\u001b[0m\u001b[0;34m)\u001b[0m\u001b[0;34m\u001b[0m\u001b[0;34m\u001b[0m\u001b[0m\n\u001b[0m\u001b[1;32m    356\u001b[0m \u001b[0;34m\u001b[0m\u001b[0m\n\u001b[1;32m    357\u001b[0m         \u001b[0;32mif\u001b[0m \u001b[0mhave_series\u001b[0m\u001b[0;34m:\u001b[0m\u001b[0;34m\u001b[0m\u001b[0;34m\u001b[0m\u001b[0m\n",
      "\u001b[0;31mValueError\u001b[0m: If using all scalar values, you must pass an index"
     ]
    }
   ],
   "source": [
    "df_2 = pd.DataFrame(data[\"weather\"])\n",
    "print(df_2.head())"
   ]
  },
  {
   "cell_type": "code",
   "execution_count": null,
   "metadata": {},
   "outputs": [],
   "source": []
  }
 ],
 "metadata": {
  "kernelspec": {
   "display_name": "Python 3",
   "language": "python",
   "name": "python3"
  },
  "language_info": {
   "codemirror_mode": {
    "name": "ipython",
    "version": 3
   },
   "file_extension": ".py",
   "mimetype": "text/x-python",
   "name": "python",
   "nbconvert_exporter": "python",
   "pygments_lexer": "ipython3",
   "version": "3.6.10"
  }
 },
 "nbformat": 4,
 "nbformat_minor": 4
}